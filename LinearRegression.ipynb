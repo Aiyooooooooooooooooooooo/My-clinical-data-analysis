{
 "cells": [
  {
   "cell_type": "markdown",
   "metadata": {},
   "source": [
    "# Linear Regression"
   ]
  },
  {
   "cell_type": "code",
   "execution_count": 1,
   "metadata": {},
   "outputs": [],
   "source": [
    "import pandas as pd\n",
    "import numpy as np\n",
    "import matplotlib.pyplot as plt"
   ]
  },
  {
   "cell_type": "code",
   "execution_count": 2,
   "metadata": {},
   "outputs": [],
   "source": [
    "data = {'area': [3456,2089,1416,5000,6325,3255,4255,6255], 'price':[600,395,232,800,922,525,500,555] }"
   ]
  },
  {
   "cell_type": "code",
   "execution_count": 3,
   "metadata": {},
   "outputs": [
    {
     "data": {
      "text/plain": [
       "{'area': [3456, 2089, 1416, 5000, 6325, 3255, 4255, 6255],\n",
       " 'price': [600, 395, 232, 800, 922, 525, 500, 555]}"
      ]
     },
     "execution_count": 3,
     "metadata": {},
     "output_type": "execute_result"
    }
   ],
   "source": [
    "data"
   ]
  },
  {
   "cell_type": "code",
   "execution_count": 4,
   "metadata": {},
   "outputs": [
    {
     "data": {
      "text/html": [
       "<div>\n",
       "<style scoped>\n",
       "    .dataframe tbody tr th:only-of-type {\n",
       "        vertical-align: middle;\n",
       "    }\n",
       "\n",
       "    .dataframe tbody tr th {\n",
       "        vertical-align: top;\n",
       "    }\n",
       "\n",
       "    .dataframe thead th {\n",
       "        text-align: right;\n",
       "    }\n",
       "</style>\n",
       "<table border=\"1\" class=\"dataframe\">\n",
       "  <thead>\n",
       "    <tr style=\"text-align: right;\">\n",
       "      <th></th>\n",
       "      <th>area</th>\n",
       "      <th>price</th>\n",
       "    </tr>\n",
       "  </thead>\n",
       "  <tbody>\n",
       "    <tr>\n",
       "      <th>0</th>\n",
       "      <td>3456</td>\n",
       "      <td>600</td>\n",
       "    </tr>\n",
       "    <tr>\n",
       "      <th>1</th>\n",
       "      <td>2089</td>\n",
       "      <td>395</td>\n",
       "    </tr>\n",
       "    <tr>\n",
       "      <th>2</th>\n",
       "      <td>1416</td>\n",
       "      <td>232</td>\n",
       "    </tr>\n",
       "    <tr>\n",
       "      <th>3</th>\n",
       "      <td>5000</td>\n",
       "      <td>800</td>\n",
       "    </tr>\n",
       "    <tr>\n",
       "      <th>4</th>\n",
       "      <td>6325</td>\n",
       "      <td>922</td>\n",
       "    </tr>\n",
       "    <tr>\n",
       "      <th>5</th>\n",
       "      <td>3255</td>\n",
       "      <td>525</td>\n",
       "    </tr>\n",
       "    <tr>\n",
       "      <th>6</th>\n",
       "      <td>4255</td>\n",
       "      <td>500</td>\n",
       "    </tr>\n",
       "    <tr>\n",
       "      <th>7</th>\n",
       "      <td>6255</td>\n",
       "      <td>555</td>\n",
       "    </tr>\n",
       "  </tbody>\n",
       "</table>\n",
       "</div>"
      ],
      "text/plain": [
       "   area  price\n",
       "0  3456    600\n",
       "1  2089    395\n",
       "2  1416    232\n",
       "3  5000    800\n",
       "4  6325    922\n",
       "5  3255    525\n",
       "6  4255    500\n",
       "7  6255    555"
      ]
     },
     "execution_count": 4,
     "metadata": {},
     "output_type": "execute_result"
    }
   ],
   "source": [
    "df=pd.DataFrame(data=data)\n",
    "df"
   ]
  },
  {
   "cell_type": "code",
   "execution_count": 5,
   "metadata": {},
   "outputs": [
    {
     "data": {
      "text/plain": [
       "Text(0, 0.5, 'price')"
      ]
     },
     "execution_count": 5,
     "metadata": {},
     "output_type": "execute_result"
    },
    {
     "data": {
      "image/png": "[encoded data removed]",
      "text/plain": [
       "<Figure size 432x288 with 1 Axes>"
      ]
     },
     "metadata": {
      "needs_background": "light"
     },
     "output_type": "display_data"
    }
   ],
   "source": [
    "plt.scatter(df['area'],df['price'])\n",
    "plt.xlabel('area')\n",
    "plt.ylabel('price')"
   ]
  },
  {
   "cell_type": "code",
   "execution_count": 6,
   "metadata": {},
   "outputs": [],
   "source": [
    "# Linear Regression using Diabetes Data\n",
    "# Code source: Jaques Grobler\n",
    "# License: BSD 3 clause"
   ]
  },
  {
   "cell_type": "code",
   "execution_count": 6,
   "metadata": {},
   "outputs": [],
   "source": [
    "import matplotlib.pyplot as plt\n",
    "import numpy as np\n",
    "from sklearn import datasets, linear_model\n",
    "from sklearn.metrics import mean_squared_error, r2_score "
   ]
  },
  {
   "cell_type": "code",
   "execution_count": 7,
   "metadata": {},
   "outputs": [],
   "source": [
    "# Load the diabetes dataset\n",
    "# this will return both the response and prediction as x and y\n",
    "diabetes_x,diabetes_y = datasets.load_diabetes(return_X_y=True)"
   ]
  },
  {
   "cell_type": "code",
   "execution_count": 8,
   "metadata": {},
   "outputs": [
    {
     "data": {
      "text/plain": [
       "(442, 10)"
      ]
     },
     "execution_count": 8,
     "metadata": {},
     "output_type": "execute_result"
    }
   ],
   "source": [
    "# these are features\n",
    "diabetes_x.shape"
   ]
  },
  {
   "cell_type": "code",
   "execution_count": 9,
   "metadata": {},
   "outputs": [
    {
     "data": {
      "text/plain": [
       "(442,)"
      ]
     },
     "execution_count": 9,
     "metadata": {},
     "output_type": "execute_result"
    }
   ],
   "source": [
    "# this is targets\n",
    "diabetes_y.shape"
   ]
  },
  {
   "cell_type": "code",
   "execution_count": 10,
   "metadata": {},
   "outputs": [
    {
     "name": "stdout",
     "output_type": "stream",
     "text": [
      "original data:  [ 0.06169621 -0.05147406  0.04445121 -0.01159501 -0.03638469]\n",
      "reformatted data:  [[ 0.06169621]\n",
      " [-0.05147406]\n",
      " [ 0.04445121]\n",
      " [-0.01159501]\n",
      " [-0.03638469]]\n"
     ]
    }
   ],
   "source": [
    "# lets load dta from diabetes_x, however we will only load the One feature (3rd one)\n",
    "# we are creating a new axis so we can describe each datapoint as a separate input\n",
    "diabetes_x_new = diabetes_x[:, np.newaxis, 2]\n",
    "print('original data: ',diabetes_x[0:5,2])\n",
    "print('reformatted data: ',diabetes_x_new[0:5])"
   ]
  },
  {
   "cell_type": "code",
   "execution_count": 11,
   "metadata": {},
   "outputs": [
    {
     "name": "stdout",
     "output_type": "stream",
     "text": [
      "(442, 1)\n"
     ]
    }
   ],
   "source": [
    "# Identify number of samples = 442\n",
    "print(diabetes_x_new.shape)"
   ]
  },
  {
   "cell_type": "code",
   "execution_count": 12,
   "metadata": {},
   "outputs": [
    {
     "name": "stdout",
     "output_type": "stream",
     "text": [
      "Length of training set 422\n",
      "Length of testing set 20\n"
     ]
    }
   ],
   "source": [
    "# Split the data into training/testing sets \n",
    "# The last 20 samples are selected as testing and every sample before it as training\n",
    "# the same split is applied to the predictor variable as well\n",
    "diabetes_x_new_train1 = diabetes_x_new[:-20]\n",
    "diabetes_x_new_test1 = diabetes_x_new[-20:]\n",
    "diabetes_y_new_train1 = diabetes_y[:-20]\n",
    "diabetes_y_new_test1 = diabetes_y[-20:]\n",
    "print('Length of training set', len(diabetes_x_new_train1))\n",
    "print('Length of testing set', len(diabetes_x_new_test1))"
   ]
  },
  {
   "cell_type": "code",
   "execution_count": 13,
   "metadata": {},
   "outputs": [
    {
     "name": "stdout",
     "output_type": "stream",
     "text": [
      "Length of training set 342\n",
      "Length of testing set 100\n"
     ]
    }
   ],
   "source": [
    "# Split the data into training/testing sets \n",
    "# The last 100 samples are selected as testing and every sample before it as training\n",
    "# the same split is applied to the predictor variable as well\n",
    "diabetes_x_new_train2 = diabetes_x_new[:-100]\n",
    "diabetes_x_new_test2 = diabetes_x_new[-100:]\n",
    "diabetes_y_new_train2 = diabetes_y[:-100]\n",
    "diabetes_y_new_test2 = diabetes_y[-100:]\n",
    "print('Length of training set', len(diabetes_x_new_train2))\n",
    "print('Length of testing set', len(diabetes_x_new_test2))"
   ]
  },
  {
   "cell_type": "code",
   "execution_count": 14,
   "metadata": {},
   "outputs": [
    {
     "data": {
      "text/plain": [
       "LinearRegression()"
      ]
     },
     "execution_count": 14,
     "metadata": {},
     "output_type": "execute_result"
    }
   ],
   "source": [
    "# Create linear regression object and train using first train sample\n",
    "regr1 = linear_model.LinearRegression()\n",
    "regr1.fit(diabetes_x_new_train1, diabetes_y_new_train1)\n",
    "regr1"
   ]
  },
  {
   "cell_type": "code",
   "execution_count": 15,
   "metadata": {},
   "outputs": [
    {
     "data": {
      "text/plain": [
       "LinearRegression()"
      ]
     },
     "execution_count": 15,
     "metadata": {},
     "output_type": "execute_result"
    }
   ],
   "source": [
    "# Create linear regression object and train using second train sample\n",
    "regr2 = linear_model.LinearRegression()\n",
    "regr2.fit(diabetes_x_new_train2, diabetes_y_new_train2)"
   ]
  },
  {
   "cell_type": "code",
   "execution_count": 16,
   "metadata": {},
   "outputs": [
    {
     "data": {
      "text/plain": [
       "array([225.9732401 , 115.74763374, 163.27610621, 114.73638965,\n",
       "       120.80385422, 158.21988574, 236.08568105, 121.81509832,\n",
       "        99.56772822, 123.83758651, 204.73711411,  96.53399594,\n",
       "       154.17490936, 130.91629517,  83.3878227 , 171.36605897,\n",
       "       137.99500384, 137.99500384, 189.56845268,  84.3990668 ])"
      ]
     },
     "execution_count": 16,
     "metadata": {},
     "output_type": "execute_result"
    }
   ],
   "source": [
    "# predict the values using test data for sample 1\n",
    "diabetes_y_new_pred1=regr1.predict(diabetes_x_new_test1)\n",
    "diabetes_y_new_pred1"
   ]
  },
  {
   "cell_type": "code",
   "execution_count": 17,
   "metadata": {},
   "outputs": [
    {
     "data": {
      "text/plain": [
       "array([173.38854716, 170.35481488, 142.03998022, 150.12993298,\n",
       "       169.34357078, 124.8488306 , 133.95002746,  98.55648413,\n",
       "       209.79333458, 114.73638965,  85.41031089, 100.57897232,\n",
       "       195.63591725, 144.06246841, 121.81509832, 199.68089363,\n",
       "        73.27538175, 158.21988574, 172.37730307, 146.0849566 ,\n",
       "       251.25434248, 129.90505108, 147.09620069, 116.75887784,\n",
       "       281.59166533, 312.94023228, 155.18615345, 188.55720859,\n",
       "        98.55648413, 144.06246841, 130.91629517, 143.05122431,\n",
       "       120.80385422, 150.12993298, 216.87204325, 162.26486212,\n",
       "       155.18615345, 116.75887784, 177.43352354,  69.23040537,\n",
       "       209.79333458, 125.8600747 , 124.8488306 , 134.96127155,\n",
       "       114.73638965, 167.32108259, 129.90505108, 154.17490936,\n",
       "       217.88328734,  87.43279908, 124.8488306 , 109.68016917,\n",
       "       170.35481488, 154.17490936, 123.83758651, 149.11868888,\n",
       "       167.32108259, 174.39979126, 195.63591725, 110.69141327,\n",
       "       121.81509832, 244.17563381, 203.72587001, 268.44549209,\n",
       "        77.32035813, 240.13065743, 105.63519279, 142.03998022,\n",
       "       126.87131879, 207.77084639, 233.05194877, 152.15242117,\n",
       "       159.23112983, 161.25361802, 227.99572829, 219.90577553,\n",
       "       129.90505108, 101.59021641, 118.78136603, 168.33232669,\n",
       "       225.9732401 , 115.74763374, 163.27610621, 114.73638965,\n",
       "       120.80385422, 158.21988574, 236.08568105, 121.81509832,\n",
       "        99.56772822, 123.83758651, 204.73711411,  96.53399594,\n",
       "       154.17490936, 130.91629517,  83.3878227 , 171.36605897,\n",
       "       137.99500384, 137.99500384, 189.56845268,  84.3990668 ])"
      ]
     },
     "execution_count": 17,
     "metadata": {},
     "output_type": "execute_result"
    }
   ],
   "source": [
    "# predict the values using test data for sample 2\n",
    "diabetes_y_new_pred2=regr1.predict(diabetes_x_new_test2)\n",
    "diabetes_y_new_pred2"
   ]
  },
  {
   "cell_type": "code",
   "execution_count": 18,
   "metadata": {},
   "outputs": [
    {
     "name": "stdout",
     "output_type": "stream",
     "text": [
      "Coefficients for model  with testing sample of 20: [938.23786125]\n",
      "Mean squared error for model  with testing sample of 20: 2548.07\n",
      "R-square for model  with testing sample of 20: 0.47 \n",
      "\n",
      "Coefficients for model  with testing sample of 100: [953.3606272]\n",
      "Mean squared error for model  with testing sample of 100: 3753.39\n",
      "R-square for model  with testing sample of 100: 0.38 \n",
      "\n"
     ]
    }
   ],
   "source": [
    "# The coefficients\n",
    "print('Coefficients for model  with testing sample of 20: {}'.format(regr1.coef_))\n",
    "# The mean squared error\n",
    "print(\"Mean squared error for model  with testing sample of 20: %.2f\"\n",
    "      % mean_squared_error(diabetes_y_new_test1, diabetes_y_new_pred1))\n",
    "# Explained variance score: 1 is perfect prediction\n",
    "print('R-square for model  with testing sample of 20: %.2f \\n' % r2_score(diabetes_y_new_test1, diabetes_y_new_pred1))\n",
    "\n",
    "# The coefficients\n",
    "print('Coefficients for model  with testing sample of 100: {}'.format(regr2.coef_))\n",
    "# The mean squared error\n",
    "print(\"Mean squared error for model  with testing sample of 100: %.2f\"\n",
    "      % mean_squared_error(diabetes_y_new_test2, diabetes_y_new_pred2))\n",
    "# Explained variance score: 1 is perfect prediction\n",
    "print('R-square for model  with testing sample of 100: %.2f \\n' % r2_score(diabetes_y_new_test2, diabetes_y_new_pred2))"
   ]
  },
  {
   "cell_type": "code",
   "execution_count": 19,
   "metadata": {},
   "outputs": [
    {
     "data": {
      "text/plain": [
       "Text(0.5, 1.0, \"['Model with 100 sample']\")"
      ]
     },
     "execution_count": 19,
     "metadata": {},
     "output_type": "execute_result"
    },
    {
     "data": {
      "image/png": "[encoded data removed]",
      "text/plain": [
       "<Figure size 432x288 with 2 Axes>"
      ]
     },
     "metadata": {
      "needs_background": "light"
     },
     "output_type": "display_data"
    }
   ],
   "source": [
    "# Plot outputs\n",
    "fig1,([ax1,ax2])=plt.subplots(1,2)\n",
    "ax1.scatter(diabetes_x_new_test1, diabetes_y_new_test1,  color='black')\n",
    "ax1.plot(diabetes_x_new_test1, diabetes_y_new_pred1,  color='blue', linewidth=3)\n",
    "ax1.set_title(['Model with 20 sample'])\n",
    "\n",
    "ax2.scatter(diabetes_x_new_test2, diabetes_y_new_test2,  color='black')\n",
    "ax2.plot(diabetes_x_new_test2, diabetes_y_new_pred2,  color='blue', linewidth=3)\n",
    "ax2.set_title(['Model with 100 sample'])"
   ]
  },
  {
   "cell_type": "code",
   "execution_count": 21,
   "metadata": {},
   "outputs": [
    {
     "data": {
      "text/html": [
       "<div>\n",
       "<style scoped>\n",
       "    .dataframe tbody tr th:only-of-type {\n",
       "        vertical-align: middle;\n",
       "    }\n",
       "\n",
       "    .dataframe tbody tr th {\n",
       "        vertical-align: top;\n",
       "    }\n",
       "\n",
       "    .dataframe thead th {\n",
       "        text-align: right;\n",
       "    }\n",
       "</style>\n",
       "<table border=\"1\" class=\"dataframe\">\n",
       "  <thead>\n",
       "    <tr style=\"text-align: right;\">\n",
       "      <th></th>\n",
       "      <th>0</th>\n",
       "      <th>1</th>\n",
       "      <th>2</th>\n",
       "      <th>3</th>\n",
       "      <th>4</th>\n",
       "      <th>5</th>\n",
       "      <th>6</th>\n",
       "      <th>7</th>\n",
       "      <th>8</th>\n",
       "      <th>9</th>\n",
       "    </tr>\n",
       "  </thead>\n",
       "  <tbody>\n",
       "    <tr>\n",
       "      <th>0</th>\n",
       "      <td>0.038076</td>\n",
       "      <td>0.050680</td>\n",
       "      <td>0.061696</td>\n",
       "      <td>0.021872</td>\n",
       "      <td>-0.044223</td>\n",
       "      <td>-0.034821</td>\n",
       "      <td>-0.043401</td>\n",
       "      <td>-0.002592</td>\n",
       "      <td>0.019908</td>\n",
       "      <td>-0.017646</td>\n",
       "    </tr>\n",
       "    <tr>\n",
       "      <th>1</th>\n",
       "      <td>-0.001882</td>\n",
       "      <td>-0.044642</td>\n",
       "      <td>-0.051474</td>\n",
       "      <td>-0.026328</td>\n",
       "      <td>-0.008449</td>\n",
       "      <td>-0.019163</td>\n",
       "      <td>0.074412</td>\n",
       "      <td>-0.039493</td>\n",
       "      <td>-0.068330</td>\n",
       "      <td>-0.092204</td>\n",
       "    </tr>\n",
       "    <tr>\n",
       "      <th>2</th>\n",
       "      <td>0.085299</td>\n",
       "      <td>0.050680</td>\n",
       "      <td>0.044451</td>\n",
       "      <td>-0.005671</td>\n",
       "      <td>-0.045599</td>\n",
       "      <td>-0.034194</td>\n",
       "      <td>-0.032356</td>\n",
       "      <td>-0.002592</td>\n",
       "      <td>0.002864</td>\n",
       "      <td>-0.025930</td>\n",
       "    </tr>\n",
       "    <tr>\n",
       "      <th>3</th>\n",
       "      <td>-0.089063</td>\n",
       "      <td>-0.044642</td>\n",
       "      <td>-0.011595</td>\n",
       "      <td>-0.036656</td>\n",
       "      <td>0.012191</td>\n",
       "      <td>0.024991</td>\n",
       "      <td>-0.036038</td>\n",
       "      <td>0.034309</td>\n",
       "      <td>0.022692</td>\n",
       "      <td>-0.009362</td>\n",
       "    </tr>\n",
       "    <tr>\n",
       "      <th>4</th>\n",
       "      <td>0.005383</td>\n",
       "      <td>-0.044642</td>\n",
       "      <td>-0.036385</td>\n",
       "      <td>0.021872</td>\n",
       "      <td>0.003935</td>\n",
       "      <td>0.015596</td>\n",
       "      <td>0.008142</td>\n",
       "      <td>-0.002592</td>\n",
       "      <td>-0.031991</td>\n",
       "      <td>-0.046641</td>\n",
       "    </tr>\n",
       "  </tbody>\n",
       "</table>\n",
       "</div>"
      ],
      "text/plain": [
       "          0         1         2         3         4         5         6  \\\n",
       "0  0.038076  0.050680  0.061696  0.021872 -0.044223 -0.034821 -0.043401   \n",
       "1 -0.001882 -0.044642 -0.051474 -0.026328 -0.008449 -0.019163  0.074412   \n",
       "2  0.085299  0.050680  0.044451 -0.005671 -0.045599 -0.034194 -0.032356   \n",
       "3 -0.089063 -0.044642 -0.011595 -0.036656  0.012191  0.024991 -0.036038   \n",
       "4  0.005383 -0.044642 -0.036385  0.021872  0.003935  0.015596  0.008142   \n",
       "\n",
       "          7         8         9  \n",
       "0 -0.002592  0.019908 -0.017646  \n",
       "1 -0.039493 -0.068330 -0.092204  \n",
       "2 -0.002592  0.002864 -0.025930  \n",
       "3  0.034309  0.022692 -0.009362  \n",
       "4 -0.002592 -0.031991 -0.046641  "
      ]
     },
     "execution_count": 21,
     "metadata": {},
     "output_type": "execute_result"
    }
   ],
   "source": [
    "## Lets run the regression Model by using all the features\n",
    "# Create linear regression object and train using first train sample\n",
    "## first lets convert the features and targets to dataframe for easy visualization\n",
    "diabetes_x_df=pd.DataFrame(diabetes_x)\n",
    "diabetes_x_df.head()"
   ]
  },
  {
   "cell_type": "code",
   "execution_count": 22,
   "metadata": {},
   "outputs": [],
   "source": [
    "diabetes_x_df.to_csv('diabetes_features.csv')"
   ]
  },
  {
   "cell_type": "code",
   "execution_count": 23,
   "metadata": {},
   "outputs": [
    {
     "data": {
      "text/html": [
       "<div>\n",
       "<style scoped>\n",
       "    .dataframe tbody tr th:only-of-type {\n",
       "        vertical-align: middle;\n",
       "    }\n",
       "\n",
       "    .dataframe tbody tr th {\n",
       "        vertical-align: top;\n",
       "    }\n",
       "\n",
       "    .dataframe thead th {\n",
       "        text-align: right;\n",
       "    }\n",
       "</style>\n",
       "<table border=\"1\" class=\"dataframe\">\n",
       "  <thead>\n",
       "    <tr style=\"text-align: right;\">\n",
       "      <th></th>\n",
       "      <th>0</th>\n",
       "    </tr>\n",
       "  </thead>\n",
       "  <tbody>\n",
       "    <tr>\n",
       "      <th>0</th>\n",
       "      <td>151.0</td>\n",
       "    </tr>\n",
       "    <tr>\n",
       "      <th>1</th>\n",
       "      <td>75.0</td>\n",
       "    </tr>\n",
       "    <tr>\n",
       "      <th>2</th>\n",
       "      <td>141.0</td>\n",
       "    </tr>\n",
       "    <tr>\n",
       "      <th>3</th>\n",
       "      <td>206.0</td>\n",
       "    </tr>\n",
       "    <tr>\n",
       "      <th>4</th>\n",
       "      <td>135.0</td>\n",
       "    </tr>\n",
       "  </tbody>\n",
       "</table>\n",
       "</div>"
      ],
      "text/plain": [
       "       0\n",
       "0  151.0\n",
       "1   75.0\n",
       "2  141.0\n",
       "3  206.0\n",
       "4  135.0"
      ]
     },
     "execution_count": 23,
     "metadata": {},
     "output_type": "execute_result"
    }
   ],
   "source": [
    "diabetes_y_df=pd.DataFrame(diabetes_y)\n",
    "diabetes_y_df.head()"
   ]
  },
  {
   "cell_type": "code",
   "execution_count": 24,
   "metadata": {},
   "outputs": [],
   "source": [
    "diabetes_y_df.to_csv('diabetes_response.csv')"
   ]
  },
  {
   "cell_type": "code",
   "execution_count": 25,
   "metadata": {},
   "outputs": [
    {
     "name": "stdout",
     "output_type": "stream",
     "text": [
      "Shape of train sample (422, 10)\n",
      "Shape of test sample (20, 10)\n"
     ]
    }
   ],
   "source": [
    "# Split the data into training/testing sets \n",
    "# The last 20 samples are selected as testing and every sample before it as training\n",
    "# the same split is applied to the predictor variable as well\n",
    "diabetes_x_df_train1 = diabetes_x_df.iloc[:-20,:]\n",
    "diabetes_x_df_test1 = diabetes_x_df.iloc[-20:,:]\n",
    "print('Shape of train sample', diabetes_x_df_train1.shape)\n",
    "print('Shape of test sample', diabetes_x_df_test1.shape)\n",
    "diabetes_y_df_train1 = diabetes_y_df.iloc[:-20]\n",
    "diabetes_y_df_test1 = diabetes_y_df.iloc[-20:]\n"
   ]
  },
  {
   "cell_type": "code",
   "execution_count": 26,
   "metadata": {},
   "outputs": [
    {
     "data": {
      "text/plain": [
       "array([[197.61846908],\n",
       "       [155.43979328],\n",
       "       [172.88665147],\n",
       "       [111.53537279],\n",
       "       [164.80054784],\n",
       "       [131.06954875],\n",
       "       [259.12237761],\n",
       "       [100.47935157],\n",
       "       [117.0601052 ],\n",
       "       [124.30503555],\n",
       "       [218.36632793],\n",
       "       [ 61.19831284],\n",
       "       [132.25046751],\n",
       "       [120.3332925 ],\n",
       "       [ 52.54458691],\n",
       "       [194.03798088],\n",
       "       [102.57139702],\n",
       "       [123.56604987],\n",
       "       [211.0346317 ],\n",
       "       [ 52.60335674]])"
      ]
     },
     "execution_count": 26,
     "metadata": {},
     "output_type": "execute_result"
    }
   ],
   "source": [
    "# Create linear regression object and train using first train sample\n",
    "regr1_allfeature = linear_model.LinearRegression()\n",
    "regr1_allfeature.fit(diabetes_x_df_train1, diabetes_y_df_train1)\n",
    "\n",
    "# predict the values using test data for sample 1\n",
    "diabetes_y_df_pred1=regr1_allfeature.predict(diabetes_x_df_test1)\n",
    "diabetes_y_df_pred1"
   ]
  },
  {
   "cell_type": "code",
   "execution_count": 27,
   "metadata": {},
   "outputs": [
    {
     "name": "stdout",
     "output_type": "stream",
     "text": [
      "Coefficients for model  with testing sample of 20: [[ 3.03499549e-01 -2.37639315e+02  5.10530605e+02  3.27736980e+02\n",
      "  -8.14131709e+02  4.92814588e+02  1.02848452e+02  1.84606489e+02\n",
      "   7.43519617e+02  7.60951722e+01]]\n",
      "Mean squared error for model  with testing sample of 20: 2004.57\n",
      "R-square for model  with testing sample of 20: 0.59 \n",
      "\n"
     ]
    }
   ],
   "source": [
    "# The coefficients\n",
    "print('Coefficients for model  with testing sample of 20: {}'.format(regr1_allfeature.coef_))\n",
    "# The mean squared error\n",
    "print(\"Mean squared error for model  with testing sample of 20: %.2f\"\n",
    "      % mean_squared_error(diabetes_y_df_test1, diabetes_y_df_pred1))\n",
    "# Explained variance score: 1 is perfect prediction\n",
    "print('R-square for model  with testing sample of 20: %.2f \\n' % r2_score(diabetes_y_df_test1, diabetes_y_df_pred1))"
   ]
  },
  {
   "cell_type": "code",
   "execution_count": 28,
   "metadata": {},
   "outputs": [
    {
     "data": {
      "text/plain": [
       "RidgeCV(alphas=array([ 0.1,  1. , 10. ]))"
      ]
     },
     "execution_count": 28,
     "metadata": {},
     "output_type": "execute_result"
    }
   ],
   "source": [
    "## ridge regression with cross-validation\n",
    "RidgeCV_df=linear_model.RidgeCV()\n",
    "RidgeCV_df"
   ]
  },
  {
   "cell_type": "code",
   "execution_count": 29,
   "metadata": {},
   "outputs": [
    {
     "data": {
      "text/plain": [
       "RidgeCV(alphas=array([ 0.1,  1. , 10. ]))"
      ]
     },
     "execution_count": 29,
     "metadata": {},
     "output_type": "execute_result"
    }
   ],
   "source": [
    "RidgeCV_df.fit(diabetes_x_df_train1,diabetes_y_df_train1)"
   ]
  },
  {
   "cell_type": "code",
   "execution_count": 30,
   "metadata": {},
   "outputs": [
    {
     "data": {
      "text/plain": [
       "array([[195.01911216],\n",
       "       [153.17149511],\n",
       "       [169.39544476],\n",
       "       [106.01296055],\n",
       "       [166.5133624 ],\n",
       "       [133.75708257],\n",
       "       [257.43812783],\n",
       "       [103.063527  ],\n",
       "       [117.87817227],\n",
       "       [123.59757023],\n",
       "       [216.24272342],\n",
       "       [ 66.88652254],\n",
       "       [136.95957319],\n",
       "       [122.35356866],\n",
       "       [ 57.84501965],\n",
       "       [190.51188353],\n",
       "       [110.6371237 ],\n",
       "       [129.5404851 ],\n",
       "       [203.47164445],\n",
       "       [ 52.50623249]])"
      ]
     },
     "execution_count": 30,
     "metadata": {},
     "output_type": "execute_result"
    }
   ],
   "source": [
    "diabetes_y_df_pred1_ridge=RidgeCV_df.predict(diabetes_x_df_test1)\n",
    "diabetes_y_df_pred1_ridge"
   ]
  },
  {
   "cell_type": "code",
   "execution_count": 33,
   "metadata": {},
   "outputs": [
    {
     "name": "stdout",
     "output_type": "stream",
     "text": [
      "Coefficients for model  with testing sample of 20 and ridge regression: [[  11.1136556  -204.19946801  480.69629861  303.83348865  -88.06728559\n",
      "   -66.87260956 -193.14729968  119.53475526  430.10894133   95.56293006]]\n",
      "Mean squared error for model  with testing sample of 20 and ridge regression: 2074.55\n",
      "R-square for model with testing sample of 20 and ridge regression:0.57 \n",
      "\n",
      "Coefficients for model  with testing sample of 20 and linear regression: [[ 3.03499549e-01 -2.37639315e+02  5.10530605e+02  3.27736980e+02\n",
      "  -8.14131709e+02  4.92814588e+02  1.02848452e+02  1.84606489e+02\n",
      "   7.43519617e+02  7.60951722e+01]]\n",
      "Mean squared error for model  with testing sample of 20 and linear regression: 2004.57\n",
      "R-square for model  with testing sample of 20 and linear regression: 0.59 \n",
      "\n"
     ]
    }
   ],
   "source": [
    "# The coefficients\n",
    "print('Coefficients for model  with testing sample of 20 and ridge regression: {}'.format(RidgeCV_df.coef_))\n",
    "# The mean squared error\n",
    "print(\"Mean squared error for model  with testing sample of 20 and ridge regression: %.2f\"\n",
    "      % mean_squared_error(diabetes_y_df_test1, diabetes_y_df_pred1_ridge))\n",
    "# Explained variance score: 1 is perfect prediction\n",
    "print('R-square for model with testing sample of 20 and ridge regression:%.2f \\n' % r2_score(diabetes_y_df_test1, diabetes_y_df_pred1_ridge))\n",
    " \n",
    "# The coefficients\n",
    "print('Coefficients for model  with testing sample of 20 and linear regression: {}'.format(regr1_allfeature.coef_))\n",
    "# The mean squared error\n",
    "print(\"Mean squared error for model  with testing sample of 20 and linear regression: %.2f\"\n",
    "      % mean_squared_error(diabetes_y_df_test1, diabetes_y_df_pred1))\n",
    "# Explained variance score: 1 is perfect prediction\n",
    "print('R-square for model  with testing sample of 20 and linear regression: %.2f \\n' % r2_score(diabetes_y_df_test1, diabetes_y_df_pred1))"
   ]
  }
 ],
 "metadata": {
  "kernelspec": {
   "display_name": "Python 3 (ipykernel)",
   "language": "python",
   "name": "python3"
  },
  "language_info": {
   "codemirror_mode": {
    "name": "ipython",
    "version": 3
   },
   "file_extension": ".py",
   "mimetype": "text/x-python",
   "name": "python",
   "nbconvert_exporter": "python",
   "pygments_lexer": "ipython3",
   "version": "3.7.15"
  }
 },
 "nbformat": 4,
 "nbformat_minor": 2
}
